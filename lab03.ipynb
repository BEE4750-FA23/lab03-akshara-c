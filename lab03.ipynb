{
  "cells": [
    {
      "cell_type": "markdown",
      "id": "a4dbeeed-1482-4055-871b-4d7a2c2a511e",
      "metadata": {},
      "source": [
        "# BEE 4750 Lab 3: Linear Programming with JuMP\n",
        "\n",
        "**Name**: Akshara Chandrabalan\n",
        "\n",
        "**ID**: ac2837\n",
        "\n",
        "> **Due Date**\n",
        ">\n",
        "> Friday, 10/13/23, 9:00pm\n",
        "\n",
        "## Setup\n",
        "\n",
        "The following code should go at the top of most Julia scripts; it will\n",
        "load the local package environment and install any needed packages. You\n",
        "will see this often and shouldn’t need to touch it."
      ]
    },
    {
      "cell_type": "code",
      "execution_count": 1,
      "id": "e4a7ead8",
      "metadata": {},
      "outputs": [
        {
          "name": "stderr",
          "output_type": "stream",
          "text": [
            "\u001b[32m\u001b[1m  Activating\u001b[22m\u001b[39m project at `~/Documents/BEE 5750 /lab03-akshara-c`\n"
          ]
        },
        {
          "name": "stderr",
          "output_type": "stream",
          "text": [
            "\u001b[32m\u001b[1m   Installed\u001b[22m\u001b[39m HiGHS_jll ──────────── v1.5.3+0\n",
            "\u001b[32m\u001b[1m   Installed\u001b[22m\u001b[39m SnoopPrecompile ────── v1.0.3\n",
            "\u001b[32m\u001b[1m   Installed\u001b[22m\u001b[39m CodecBzip2 ─────────── v0.8.0\n"
          ]
        },
        {
          "name": "stderr",
          "output_type": "stream",
          "text": [
            "\u001b[32m\u001b[1m   Installed\u001b[22m\u001b[39m StaticArraysCore ───── v1.4.2\n",
            "\u001b[32m\u001b[1m   Installed\u001b[22m\u001b[39m BenchmarkTools ─────── v1.3.2\n"
          ]
        },
        {
          "name": "stderr",
          "output_type": "stream",
          "text": [
            "\u001b[32m\u001b[1m   Installed\u001b[22m\u001b[39m DiffRules ──────────── v1.15.1\n",
            "\u001b[32m\u001b[1m   Installed\u001b[22m\u001b[39m Compat ─────────────── v4.10.0\n"
          ]
        },
        {
          "name": "stderr",
          "output_type": "stream",
          "text": [
            "\u001b[32m\u001b[1m   Installed\u001b[22m\u001b[39m CommonSubexpressions ─ v0.3.0\n"
          ]
        },
        {
          "name": "stderr",
          "output_type": "stream",
          "text": [
            "\u001b[32m\u001b[1m   Installed\u001b[22m\u001b[39m DiffResults ────────── v1.1.0\n",
            "\u001b[32m\u001b[1m   Installed\u001b[22m\u001b[39m StatsBase ──────────── v0.34.2\n",
            "\u001b[32m\u001b[1m   Installed\u001b[22m\u001b[39m HiGHS ──────────────── v1.6.1\n"
          ]
        },
        {
          "name": "stderr",
          "output_type": "stream",
          "text": [
            "\u001b[32m\u001b[1m   Installed\u001b[22m\u001b[39m ForwardDiff ────────── v0.10.36\n"
          ]
        },
        {
          "name": "stderr",
          "output_type": "stream",
          "text": [
            "\u001b[32m\u001b[1m   Installed\u001b[22m\u001b[39m MutableArithmetics ─── v1.3.3\n",
            "\u001b[32m\u001b[1m   Installed\u001b[22m\u001b[39m JuMP ───────────────── v1.15.1\n",
            "\u001b[32m\u001b[1m   Installed\u001b[22m\u001b[39m MathOptInterface ───── v1.20.1\n"
          ]
        },
        {
          "name": "stderr",
          "output_type": "stream",
          "text": [
            "\u001b[32m\u001b[1mPrecompiling\u001b[22m\u001b[39m "
          ]
        },
        {
          "name": "stderr",
          "output_type": "stream",
          "text": [
            "project...\n"
          ]
        },
        {
          "name": "stderr",
          "output_type": "stream",
          "text": [
            "\u001b[32m  ✓ \u001b[39m\u001b[90mStaticArraysCore\u001b[39m\n"
          ]
        },
        {
          "name": "stderr",
          "output_type": "stream",
          "text": [
            "\u001b[32m  ✓ \u001b[39m\u001b[90mSnoopPrecompile\u001b[39m\n",
            "\u001b[32m  ✓ \u001b[39m\u001b[90mCompat\u001b[39m\n",
            "\u001b[32m  ✓ \u001b[39m\u001b[90mCommonSubexpressions\u001b[39m\n"
          ]
        },
        {
          "name": "stderr",
          "output_type": "stream",
          "text": [
            "\u001b[32m  ✓ \u001b[39m\u001b[90mCodecBzip2\u001b[39m\n"
          ]
        },
        {
          "name": "stderr",
          "output_type": "stream",
          "text": [
            "\u001b[32m  ✓ \u001b[39m\u001b[90mHiGHS_jll\u001b[39m\n"
          ]
        },
        {
          "name": "stderr",
          "output_type": "stream",
          "text": [
            "\u001b[32m  ✓ \u001b[39m\u001b[90mDiffRules\u001b[39m\n"
          ]
        },
        {
          "name": "stderr",
          "output_type": "stream",
          "text": [
            "\u001b[32m  ✓ \u001b[39m\u001b[90mDiffResults\u001b[39m\n"
          ]
        },
        {
          "name": "stderr",
          "output_type": "stream",
          "text": [
            "\u001b[32m  ✓ \u001b[39m\u001b[90mCompat → CompatLinearAlgebraExt\u001b[39m\n"
          ]
        },
        {
          "name": "stderr",
          "output_type": "stream",
          "text": [
            "\u001b[32m  ✓ \u001b[39m\u001b[90mBenchmarkTools\u001b[39m\n"
          ]
        },
        {
          "name": "stderr",
          "output_type": "stream",
          "text": [
            "\u001b[32m  ✓ \u001b[39m\u001b[90mDataStructures\u001b[39m\n"
          ]
        },
        {
          "name": "stderr",
          "output_type": "stream",
          "text": [
            "\u001b[32m  ✓ \u001b[39m\u001b[90mSortingAlgorithms\u001b[39m\n"
          ]
        },
        {
          "name": "stderr",
          "output_type": "stream",
          "text": [
            "\u001b[32m  ✓ \u001b[39m\u001b[90mMutableArithmetics\u001b[39m\n"
          ]
        },
        {
          "name": "stderr",
          "output_type": "stream",
          "text": [
            "\u001b[32m  ✓ \u001b[39m\u001b[90mForwardDiff\u001b[39m\n"
          ]
        },
        {
          "name": "stderr",
          "output_type": "stream",
          "text": [
            "\u001b[32m  ✓ \u001b[39m\u001b[90mStatsBase\u001b[39m\n"
          ]
        },
        {
          "name": "stderr",
          "output_type": "stream",
          "text": [
            "\u001b[32m  ✓ \u001b[39mPlots\n"
          ]
        },
        {
          "name": "stderr",
          "output_type": "stream",
          "text": [
            "\u001b[32m  ✓ \u001b[39m\u001b[90mPlots → UnitfulExt\u001b[39m\n"
          ]
        },
        {
          "name": "stderr",
          "output_type": "stream",
          "text": [
            "\u001b[32m  ✓ \u001b[39m\u001b[90mMathOptInterface\u001b[39m\n"
          ]
        },
        {
          "name": "stderr",
          "output_type": "stream",
          "text": [
            "\u001b[32m  ✓ \u001b[39mHiGHS\n"
          ]
        },
        {
          "name": "stderr",
          "output_type": "stream",
          "text": [
            "\u001b[32m  ✓ \u001b[39mJuMP\n"
          ]
        },
        {
          "name": "stderr",
          "output_type": "stream",
          "text": [
            "  20 dependencies successfully precompiled in 328 seconds. 143 already precompiled.\n"
          ]
        }
      ],
      "source": [
        "import Pkg\n",
        "Pkg.activate(\".\")\n",
        "Pkg.instantiate()"
      ]
    },
    {
      "cell_type": "code",
      "execution_count": 2,
      "id": "bcb91547",
      "metadata": {},
      "outputs": [],
      "source": [
        "using JuMP # optimization modeling syntax\n",
        "using HiGHS # optimization solver\n",
        "using Plots # plotting"
      ]
    },
    {
      "cell_type": "markdown",
      "id": "e7c75237-e4a0-44dd-accc-3ba4b3a0b33e",
      "metadata": {},
      "source": [
        "## Overview\n",
        "\n",
        "In this lab, you will write and solve a resource allocation example\n",
        "using `JuMP.jl`. `JuMP.jl` provides an intuitive syntax for writing,\n",
        "solving, and querying optimization problems.\n",
        "\n",
        "For an example of using `JuMP.jl` to solve linear programs, see [the\n",
        "relevant tutorial on the class\n",
        "website](https://viveks.me/environmental-systems-analysis/tutorials/julia-jump.html).\n",
        "\n",
        "Free free to delete some of the illustrative cells and code blocks in\n",
        "your notebook as you go through and solve the lab problems…this might\n",
        "help reduce some potential confusion while grading about what your\n",
        "answer is."
      ]
    },
    {
      "cell_type": "markdown",
      "id": "b3357076-5bea-4fbb-a560-286b35fd52af",
      "metadata": {},
      "source": [
        "## Introduction\n",
        "\n",
        "Your task is to decide how much lumber to produce to maximize profit\n",
        "from wood sales. You can purchase wood from a managed forest, which\n",
        "consists of spruce (320,000 bf) and fir (720,000 bf). Spruce costs\n",
        "\\$0.12 per bf to purchase and fir costs \\$0.08 per bf.\n",
        "\n",
        "At the lumber mill, wood can be turned into plywood of various grades\n",
        "(see <a href=\"#tbl-inputs\" class=\"quarto-xref\">Table 1</a> for how much\n",
        "wood of each type is required for and the revenue from each grade). Any\n",
        "excess wood is sent to be recycled into particle board. This resource\n",
        "allocation problem is diagrammed in\n",
        "<a href=\"#fig-schematic\" class=\"quarto-xref\">Figure 1</a>.\n",
        "\n",
        "| Plywood Grade | Inputs (bf/bf plywood) | Revenue (\\$/1000 bf) |\n",
        "|:-------------:|:----------------------:|:--------------------:|\n",
        "|       1       |   0.5 (S) + 1.5 (F)    |         400          |\n",
        "|       2       |   1.0 (S) + 2.0 (F)    |         520          |\n",
        "|       3       |   1.5 (S) + 2.0 (F)    |         700          |\n",
        "\n",
        "Table 1: Wood inputs and revenue by plywood grade. S refers to spruce\n",
        "inputs, F fir inputs."
      ]
    },
    {
      "cell_type": "markdown",
      "id": "e64f4869-4c05-4097-9118-15c5583c58a3",
      "metadata": {},
      "source": [
        "<figure id=\"fig-schematic\">\n",
        "<img src=\"attachment:lab03_files/figure-ipynb/mermaid-figure-1.png\" />\n",
        "<figcaption>Figure 1: Flowchat of the resource allocation problem in\n",
        "this lab.</figcaption>\n",
        "</figure>\n",
        "\n",
        "## Problems (10 points)"
      ]
    },
    {
      "cell_type": "markdown",
      "id": "4909da23-bc65-4291-ac3a-b991ffd66163",
      "metadata": {},
      "source": [
        "### Problem 1: Problem Formulation (5 points)\n",
        "\n",
        "In this problem, you will go through the steps of formulating a linear\n",
        "program for this problem."
      ]
    },
    {
      "cell_type": "markdown",
      "id": "2071aef6-e8a9-4285-a5b9-59f65a25b5ac",
      "metadata": {},
      "source": [
        "#### Problem 1.1 (1 point) - done, DOUBLE CHECK\n",
        "\n",
        "What are your decision variables? Clearly define your notation,\n",
        "including what variables you are using, what they mean, and what their\n",
        "units are."
      ]
    },
    {
      "cell_type": "markdown",
      "id": "8a371749",
      "metadata": {},
      "source": [
        "ANSWER (old version): My decision variables are g1, g2 and g3, which represent the amount of lumber produced of plywood grade 1, 2 and 3, respectively, in bf/bf. g1 is as follows: $$g1 = 0.5S_1 + 1.5F_1$$ where $S_i$ is the amount of spruce input in bf for grade i = 1, 2, 3 and $F_i$ is the amount of fir input in bf for grade i = 1, 2, 3. Accordingly, $$g2 = 1S_2 + 2F_2$$ and $$g3 = 1.5S_3 + 2F_3$$ "
      ]
    },
    {
      "cell_type": "markdown",
      "id": "084209f7",
      "metadata": {},
      "source": [
        "ANSWER (what i'm currently going with): My decision variables are $S_i$ and $F_i$. $S_i$ is the amount of spruce input in bf for plywood grade i = 1, 2, 3 and $F_i$ is the amount of fir input in bf for plywood grade i = 1, 2, 3. Based on $S_i$ and $F_i$, the amount of lumber produced of plywood grade 1, 2 and 3 (i.e. g1, g2, and g3), respectively, is: $$g1 = 0.5S_1 + 1.5F_1$$ $$g2 = 1S_2 + 2F_2$$ $$g3 = 1.5S_3 + 2F_3$$     "
      ]
    },
    {
      "cell_type": "markdown",
      "id": "d314882c-8e58-4177-a740-676248d7106f",
      "metadata": {},
      "source": [
        "#### Problem 1.2 (1 point) - done, DOUBLE CHECK\n",
        "\n",
        "Derive your objective function. Support your function with\n",
        "justifications and/or equations as necessary. You will not receive\n",
        "credit just for the function alone."
      ]
    },
    {
      "cell_type": "markdown",
      "id": "7171b055",
      "metadata": {},
      "source": [
        "ANSWER: The goal is to maximize profit $P$ ($/bf), so profit is the sum of the revenue from each grade of plywood minus the cost associated with producing each grade of plywood. As such, the objective function is, $$P = [(0.5S_1 + 1.5F_1)(400/1000) - (0.12S_1 + 0.08F_1)] + [(1S_2 + 2F_2)(520/1000) - (0.12S_2 + 0.08F_2)] + [(1.5S_3 + 2F_3)(700/1000) - (0.12S_3 + 0.08F_3)]$$ After expanding and simplifying, $$P = 0.13S_1 + 0.4S_2 + 0.93S_3 + 0.52F_1 + 0.96F_2 + 1.32F_3$$ I divided the revenue by 1000 to get the dollar amount per bf."
      ]
    },
    {
      "cell_type": "markdown",
      "id": "9bd0d34a-7aed-44b9-a665-80fcc1deb56b",
      "metadata": {},
      "source": [
        "#### Problem 1.3 (2 point)\n",
        "\n",
        "Derive any needed constraints. Support your function with justifications\n",
        "and/or equations as necessary. You will not receive credit just for the\n",
        "final constraints alone."
      ]
    },
    {
      "cell_type": "markdown",
      "id": "cb31f4c4",
      "metadata": {},
      "source": [
        "ANSWER: The maximum amount of spruce available from the forest is 320,000 bf and for fir, 720,000 bf. So, the total amount of spruce and fir used cannot exceed those limits. As such, the material constraints for spruce and fir are: $$S_1 + S_2 + S_3 \\leq 320000$$ $$F_1 + F_2 + F_3 \\leq 720000$$ Non-negativity constraint because the amount of spruce and fir used cannot be less than 0 (negative amount of wood doesn't make sense): $$S_i, F_i \\geq 0$$ "
      ]
    },
    {
      "cell_type": "markdown",
      "id": "b1a9dab5-6afb-4bf6-ad34-3c8979b4d07a",
      "metadata": {},
      "source": [
        "#### Problem 1.4 (1 point) - done, DOUBLE CHECK\n",
        "\n",
        "Put this optimization problem in mathematical programming form. For an\n",
        "example of the syntax for this, see lines 82–91\n",
        "[here](https://github.com/vsrikrish/environmental-systems-analysis/blob/Fall23/tutorials/julia-jump.qmd)."
      ]
    },
    {
      "cell_type": "markdown",
      "id": "170bb973",
      "metadata": {},
      "source": [
        " $$ \\begin{aligned}\n",
        "    \\max_{S_i, F_i}\\quad & 0.13S_1 + 0.4S_2 + 0.93S_3 + 0.52F_1 + 0.96F_2 + 1.32F_3\\\\\n",
        "    \\text{Subject to} \\quad & S_1 + S_2 + S_3 \\leq 320000\\\\\n",
        "     & F_1 + F_2 + F_3 \\leq 720000\\\\\n",
        "     & S_1 \\geq 0\\\\\n",
        "     & S_2 \\geq 0\\\\\n",
        "     & S_3 \\geq 0\\\\\n",
        "     & F_1 \\geq 0\\\\\n",
        "     & F_2 \\geq 0\\\\\n",
        "     & F_3 \\geq 0\\\\\n",
        "    \\end{aligned} $$"
      ]
    },
    {
      "cell_type": "markdown",
      "id": "5fb9c116-3b52-46da-87a2-160f3c98676e",
      "metadata": {},
      "source": [
        "### Problem 2: Find the Solution (5 points)"
      ]
    },
    {
      "cell_type": "markdown",
      "id": "c7336df3-bd09-4437-89ad-b9c493528017",
      "metadata": {},
      "source": [
        "#### Problem 2.1 (2 points)\n",
        "\n",
        "Code your linear program using `JuMP`. Feel free to consult [the\n",
        "website’s `JuMP`\n",
        "tutorial](https://viveks.me/environmental-systems-analysis/tutorials/julia-jump.html)\n",
        "for syntax help. The keys:"
      ]
    },
    {
      "cell_type": "code",
      "execution_count": 16,
      "id": "7229a283",
      "metadata": {},
      "outputs": [
        {
          "name": "stdout",
          "output_type": "stream",
          "text": [
            "Max 0.13 S[1] + 0.4 S[2] + 0.93 S[3] + 0.52 F[1] + 0.96 F[2] + 1.32 F[3]\n",
            "Subject to\n",
            " material_spruce : S[1] + S[2] + S[3] ≤ 320000\n",
            " material_fir : F[1] + F[2] + F[3] ≤ 720000\n",
            " S[1] ≥ 0\n",
            " S[2] ≥ 0\n",
            " S[3] ≥ 0\n",
            " F[1] ≥ 0\n",
            " F[2] ≥ 0\n",
            " F[3] ≥ 0\n"
          ]
        }
      ],
      "source": [
        "lumber_model = Model(HiGHS.Optimizer)\n",
        "\n",
        "I = 1:3\n",
        "@variable(lumber_model, S[i in I] >= 0)\n",
        "@variable(lumber_model, F[i in I] >= 0)\n",
        "\n",
        "@constraint(lumber_model, material_spruce, sum(S) <= 320000)\n",
        "@constraint(lumber_model, material_fir, sum(F) <= 720000)\n",
        "\n",
        "@objective(lumber_model, Max, 0.13S[1] + 0.4S[2] + 0.93S[3] + 0.52F[1] + 0.96F[2] + 1.32F[3])\n",
        "\n",
        "@expression(lumber_model, g1, 0.5S[1] + 1.5F[1])\n",
        "@expression(lumber_model, g2, 1S[2] + 2F[2])\n",
        "@expression(lumber_model, g3, 1.5S[3] + 2F[3])\n",
        "\n",
        "print(lumber_model)\n"
      ]
    },
    {
      "cell_type": "markdown",
      "metadata": {},
      "source": [
        "1.  Initialize your model with a solver; in this case, we’ll use the\n",
        "    `HiGHS` solver, but there are other solvers listed here for\n",
        "    different types of problems, some of which are open and some of\n",
        "    which require a commercial license:\n",
        "    <https://jump.dev/JuMP.jl/stable/installation/#Supported-solvers>:\n",
        "\n",
        "    ``` julia\n",
        "    example_model = Model(HiGHS.Optimizer)\n",
        "    ```\n",
        "\n",
        "2.  Define variables with syntax like\n",
        "\n",
        "    ``` julia\n",
        "    @variable(example_model, 1 >= example_x >= 0)\n",
        "    ```\n",
        "\n",
        "    This will create a variable `example_x` which is constrained to be\n",
        "    between 0 and 1; you can leave off any of the bounds if a variable\n",
        "    is unbounded in a particular direction. You can also add a vector of\n",
        "    variables:\n",
        "\n",
        "    ``` julia\n",
        "    T = 1:3 # define set to index variables\n",
        "    @variable(example_model, 1 >= example_z[t in T] >= 0)\n",
        "    ```\n",
        "\n",
        "    which will create a vector of 3 variables `example_z[1]`, …,\n",
        "    `example_z[3]`, all of which are bounded between 0 and 1.\n",
        "\n",
        "3.  Add an objective with\n",
        "\n",
        "    ``` julia\n",
        "    @objective(example_model, Max, example_x + sum(example_z))\n",
        "    ```\n",
        "\n",
        "    which will add an objective to maximize (replace with `Min` to\n",
        "    minimize).\n",
        "\n",
        "4.  Add constraints:\n",
        "\n",
        "    ``` julia\n",
        "    @constraint(example_model, constraint1, 2example_x + 3*sum(example_z) <= 10)\n",
        "    @constraint(example_model, constraint2, 5example_x - example_z[1] <= 2)\n",
        "    ```\n",
        "\n",
        "    which will name the constraints `constraint1` and `constraint2` (you\n",
        "    should make yours more descriptive about what the constraint\n",
        "    actually is). The value of adding a name is to facilitate later\n",
        "    querying of shadow prices, which we will discuss later. You can also\n",
        "    add a vector of constraints which have similar structure or rely on\n",
        "    different elements of a data vector:\n",
        "\n",
        "    ``` julia\n",
        "    A = [2; 4]\n",
        "    b = [8; 12]\n",
        "    I = 1:2 # set indices for constraint\n",
        "    @constraint(example_model, vector_constraint[i in I], A[i] * sum(example_z) .<= b[i])\n",
        "    ```\n",
        "\n",
        "    You can also define matrices of constraints which depend on two\n",
        "    index sets by generalizing this syntax, e.g.\n",
        "\n",
        "    ``` julia\n",
        "    @constraint(example_model, matrix_constraint[i in I, j in J, ...])\n",
        "    ```\n",
        "\n",
        "    > **Tip**\n",
        "    >\n",
        "    > Specifying higher-dimensional vectors and matrices of variables\n",
        "    > and constraints will be important when we start looking at more\n",
        "    > complex applications, so don’t skip over this! You don’t want to\n",
        "    > manually enter thousands of constraints to ensure hourly\n",
        "    > electricity demand is met…\n",
        "\n",
        "    Finally, you can (and probably should) `print` your model to make\n",
        "    sure that you get something that looks like the equations that you\n",
        "    wrote down (in a notebook, this will be nicely rendered):\n",
        "\n",
        "    ``` julia\n",
        "    print(example_model)\n",
        "    ```\n",
        "\n",
        "    $$ \\begin{aligned}\n",
        "    \\max\\quad & example\\_x + example\\_z_{1} + example\\_z_{2} + example\\_z_{3}\\\\\n",
        "    \\text{Subject to} \\quad & 2 example\\_x + 3 example\\_z_{1} + 3 example\\_z_{2} + 3 example\\_z_{3} \\leq 10\\\\\n",
        "     & 5 example\\_x - example\\_z_{1} \\leq 2\\\\\n",
        "     & 2 example\\_z_{1} + 2 example\\_z_{2} + 2 example\\_z_{3} \\leq 8\\\\\n",
        "     & 4 example\\_z_{1} + 4 example\\_z_{2} + 4 example\\_z_{3} \\leq 12\\\\\n",
        "     & example\\_x \\geq 0\\\\\n",
        "     & example\\_z_{1} \\geq 0\\\\\n",
        "     & example\\_z_{2} \\geq 0\\\\\n",
        "     & example\\_z_{3} \\geq 0\\\\\n",
        "     & example\\_x \\leq 1\\\\\n",
        "     & example\\_z_{1} \\leq 1\\\\\n",
        "     & example\\_z_{2} \\leq 1\\\\\n",
        "     & example\\_z_{3} \\leq 1\\\\\n",
        "    \\end{aligned} $$\n",
        "\n",
        "    > **Define your entire model in one cell**\n",
        "    >\n",
        "    > `JuMP` has great and intuitive syntax, but it doesn’t like\n",
        "    > re-defining variables or constraints once they’ve been set. I\n",
        "    > recommend putting all of your model-definition code (starting from\n",
        "    > `model = Model(...)`) for a particular optimization problem in a\n",
        "    > single notebook cell, so you can re-set up the entire problem with\n",
        "    > a single click when you want to make a change."
      ]
    },
    {
      "cell_type": "markdown",
      "id": "de5ff570-e9ee-40c2-8784-2633d1a4dc0c",
      "metadata": {},
      "source": [
        "#### Problem 2.2 (1 points) - done, DOUBLE CHECK\n",
        "\n",
        "Find the solution to your program and find the optimal values of the\n",
        "decision variables. Once you’ve defined your model, you can find the\n",
        "solution with \\`optimize!():"
      ]
    },
    {
      "cell_type": "code",
      "execution_count": 18,
      "id": "5ccbe21b",
      "metadata": {},
      "outputs": [
        {
          "name": "stdout",
          "output_type": "stream",
          "text": [
            "Running HiGHS 1.5.3 [date: 1970-01-01, git hash: 45a127b78]\n",
            "Copyright (c) 2023 HiGHS under MIT licence terms\n",
            "Presolving model\n",
            "2 rows, 6 cols, 6 nonzeros\n",
            "0 rows, 0 cols, 0 nonzeros\n",
            "Presolve : Reductions: rows 0(-2); columns 0(-6); elements 0(-6) - Reduced to empty\n",
            "Solving the original LP from the solution after postsolve\n",
            "Model   status      : Optimal\n",
            "Objective value     :  1.2480000000e+06\n",
            "HiGHS run time      :          0.00\n"
          ]
        }
      ],
      "source": [
        "optimize!(lumber_model)"
      ]
    },
    {
      "cell_type": "markdown",
      "id": "addb8efe-09e7-45cf-8e0d-e78a4f8f4397",
      "metadata": {},
      "source": [
        "> **What if I Get An Error?**\n",
        ">\n",
        "> If `optimize!()` throws an error, that’s usually a sign that something\n",
        "> is wrong with the formulation (for example, a variable might not be\n",
        "> bounded or a constraint might not be specified correctly) or a typo in\n",
        "> the model definition. Linear programs should be well behaved!\n",
        "\n",
        "To find the values of variables after optimizing, use `value.()` (the\n",
        "broadcasting ensures this will work for vector-valued variables as\n",
        "well):"
      ]
    },
    {
      "cell_type": "code",
      "execution_count": 19,
      "id": "36b7a4d7",
      "metadata": {},
      "outputs": [
        {
          "data": {
            "text/plain": [
              "1-dimensional DenseAxisArray{Float64,1,...} with index sets:\n",
              "    Dimension 1, 1:3\n",
              "And data, a 3-element Vector{Float64}:\n",
              "      0.0\n",
              "      0.0\n",
              " 320000.0"
            ]
          },
          "metadata": {},
          "output_type": "display_data"
        }
      ],
      "source": [
        "value.(S)"
      ]
    },
    {
      "cell_type": "code",
      "execution_count": 20,
      "id": "b0b97e16",
      "metadata": {},
      "outputs": [
        {
          "data": {
            "text/plain": [
              "1-dimensional DenseAxisArray{Float64,1,...} with index sets:\n",
              "    Dimension 1, 1:3\n",
              "And data, a 3-element Vector{Float64}:\n",
              "      0.0\n",
              "      0.0\n",
              " 720000.0"
            ]
          },
          "metadata": {},
          "output_type": "display_data"
        }
      ],
      "source": [
        "value.(F)"
      ]
    },
    {
      "cell_type": "code",
      "execution_count": 21,
      "id": "aa02b6f7",
      "metadata": {},
      "outputs": [
        {
          "data": {
            "text/plain": [
              "0.0"
            ]
          },
          "metadata": {},
          "output_type": "display_data"
        }
      ],
      "source": [
        "value.(g1)"
      ]
    },
    {
      "cell_type": "code",
      "execution_count": 22,
      "id": "56966fe4",
      "metadata": {},
      "outputs": [
        {
          "data": {
            "text/plain": [
              "0.0"
            ]
          },
          "metadata": {},
          "output_type": "display_data"
        }
      ],
      "source": [
        "value.(g2)"
      ]
    },
    {
      "cell_type": "code",
      "execution_count": 23,
      "id": "7371f330",
      "metadata": {},
      "outputs": [
        {
          "data": {
            "text/plain": [
              "1.92e6"
            ]
          },
          "metadata": {},
          "output_type": "display_data"
        }
      ],
      "source": [
        "value.(g3)"
      ]
    },
    {
      "cell_type": "markdown",
      "id": "3631bb9c",
      "metadata": {},
      "source": [
        "ANSWER: The optimal solution is: $S_1$ = 0 bf, $S_2$ = 0 bf, $S_3$ = 320,000 bf, $F_1$ = 0 bf, $F_2$ = 0 bf, and $F_3$ = 720,000 bf. Therefore, to maximize revenue, 1,920,000 bf/bf of grade 3 plywood should be produced. The maximum profit is $1,248,000. "
      ]
    },
    {
      "cell_type": "markdown",
      "id": "7e141d56-9965-499c-a1d6-9fbc565f3abc",
      "metadata": {},
      "source": [
        "#### Problem 2.3 (1 point) - done, DOUBLE CHECK\n",
        "\n",
        "How would your profit change if you could buy 1,000 additional bf of\n",
        "spruce? You can answer this by getting the shadow price of a particular\n",
        "variable with:"
      ]
    },
    {
      "cell_type": "code",
      "execution_count": 32,
      "id": "c969ed7f",
      "metadata": {},
      "outputs": [
        {
          "data": {
            "text/plain": [
              "930.0"
            ]
          },
          "metadata": {},
          "output_type": "display_data"
        }
      ],
      "source": [
        "profit_change_spruce = shadow_price(material_spruce) * 1000 # this is why we named the constraints when we defined them\n"
      ]
    },
    {
      "cell_type": "markdown",
      "id": "7aac0606",
      "metadata": {},
      "source": [
        "ANSWER: The profit would increase by $930."
      ]
    },
    {
      "cell_type": "markdown",
      "id": "0f60ecb1-3610-434e-af1f-02b19850827b",
      "metadata": {},
      "source": [
        "#### Problem 2.4 (1 point) - done, DOUBLE CHECK\n",
        "\n",
        "Would you prefer to have 2,000 additional bf of spruce or 1,000\n",
        "additional bf of fir?"
      ]
    },
    {
      "cell_type": "code",
      "execution_count": 33,
      "id": "e4d13baf",
      "metadata": {},
      "outputs": [
        {
          "data": {
            "text/plain": [
              "1320.0"
            ]
          },
          "metadata": {},
          "output_type": "display_data"
        }
      ],
      "source": [
        "profit_change_fir = shadow_price(material_fir) * 1000\n"
      ]
    },
    {
      "cell_type": "code",
      "execution_count": 53,
      "id": "6e5f3729",
      "metadata": {},
      "outputs": [
        {
          "name": "stdout",
          "output_type": "stream",
          "text": [
            "profit_spruce_2000 = 1860.0\n",
            "profit_fir_1000 = 1320.0\n"
          ]
        }
      ],
      "source": [
        "profit_spruce_2000 = profit_change_spruce * 2\n",
        "profit_fir_1000 = profit_change_fir * 1\n",
        "\n",
        "@show profit_spruce_2000\n",
        "@show profit_fir_1000;\n"
      ]
    },
    {
      "cell_type": "markdown",
      "id": "54b01d54",
      "metadata": {},
      "source": [
        "ANSWER: I would prefer to have 2000 additional bf of spruce over 1000 additional bf of fir because the fromer results in profit increase of $1,860, while the later results in a lower profit increase of $1,320."
      ]
    },
    {
      "cell_type": "markdown",
      "id": "3931edc3-ebed-40fa-abc1-8611323d2dac",
      "metadata": {},
      "source": [
        "## References - COMPLETE\n",
        "\n",
        "Put any consulted sources here, including classmates you worked with/who\n",
        "helped you.\n",
        "\n",
        "LEC 16\n",
        "\n",
        "https://viveks.me/environmental-systems-analysis/tutorials/julia-jump.html\n",
        "\n",
        "https://viveks.me/environmental-systems-analysis/tutorials/latex-notebook.html\n"
      ]
    }
  ],
  "metadata": {
    "kernelspec": {
      "display_name": "Julia 1.9.2",
      "language": "julia",
      "name": "julia-1.9"
    },
    "language_info": {
      "file_extension": ".jl",
      "mimetype": "application/julia",
      "name": "julia",
      "version": "1.9.2"
    }
  },
  "nbformat": 4,
  "nbformat_minor": 5
}
